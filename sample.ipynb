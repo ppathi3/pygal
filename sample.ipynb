{
 "cells": [
  {
   "cell_type": "code",
   "execution_count": 11,
   "metadata": {},
   "outputs": [
    {
     "name": "stdout",
     "output_type": "stream",
     "text": [
      "file://C:/Users/pathi/AppData/Local/Temp/tmpvqtfgtnb.html\n"
     ]
    }
   ],
   "source": [
    "# Example to check compatibility with data frames and rendering with default spacing\n",
    "import pygal\n",
    "# Testing coordinates builder helper\n",
    "from pygal.util import create_bar_chart_from_csv\n",
    "\n",
    "# Specifying file path for reading data for bar chart\n",
    "file_path = \"Mobile Operating System Market Share Worldwide.csv\"\n",
    "# Setting attributes for title \n",
    "title = \"Android, iOS and Samsung usage in 2019 months wise- default spacing\"\n",
    "# Columns for rendering bar chart\n",
    "columns = [\"Date\", \"Android\", \"iOS\", \"Samsung\"]\n",
    "# Range of labels for rendering bar chart\n",
    "x_labels_range = range(1, 13)\n",
    "\n",
    "# Creating data as per the format expected by the bar chart object using helper\n",
    "data = create_bar_chart_from_csv(file_path, title, columns, x_labels_range)\n",
    "\n",
    "# Creating the bar chart object\n",
    "bar_chart = pygal.Bar()\n",
    "\n",
    "bar_chart.title = title\n",
    "bar_chart.x_labels = map(str, x_labels_range)\n",
    "\n",
    "# Adding the data to the bar chart\n",
    "for col, values in data.items():\n",
    "    bar_chart.add(col, values)\n",
    "\n",
    "# Render the chart in browser\n",
    "bar_chart.render_in_browser()"
   ]
  },
  {
   "cell_type": "code",
   "execution_count": 12,
   "metadata": {},
   "outputs": [
    {
     "name": "stdout",
     "output_type": "stream",
     "text": [
      "file://C:/Users/pathi/AppData/Local/Temp/tmpsmhghkvz.html\n"
     ]
    }
   ],
   "source": [
    "# Example to test custom spacing\n",
    "import pygal\n",
    "# Testing coordinates builder helper\n",
    "from pygal.util import create_bar_chart_from_csv\n",
    "\n",
    "# Specifying file path for reading data for bar chart\n",
    "file_path = \"Mobile Operating System Market Share Worldwide.csv\"\n",
    "# Setting attributes for title \n",
    "title = \"Android, iOS and Samsung usage in 2019 months wise- custom spacing\"\n",
    "# Columns for rendering bar chart\n",
    "columns = [\"Date\", \"Android\", \"iOS\", \"Samsung\"]\n",
    "# Range of labels for rendering bar chart\n",
    "x_labels_range = range(1, 13)\n",
    "\n",
    "# Creating data as per the format expected by the bar chart object using helper\n",
    "data = create_bar_chart_from_csv(file_path, title, columns, x_labels_range)\n",
    "\n",
    "# Creating the bar chart object\n",
    "# Example usage\n",
    "# Specifying bar spacing values\n",
    "bar_spacing = [0.1, 0.15, 0.1, 0.15, 0.2, 0.15, 0.1, 0.15, 0.2, 0.15, 0.1, 0.15]  # Adjust spacing values for each bar as needed\n",
    "\n",
    "bar_chart = pygal.Bar(bar_spacing=bar_spacing)\n",
    "\n",
    "bar_chart.title = title\n",
    "bar_chart.x_labels = map(str, x_labels_range)\n",
    "\n",
    "# Adding the data to the bar chart\n",
    "for col, values in data.items():\n",
    "    bar_chart.add(col, values)\n",
    "\n",
    "# Render the chart in browser\n",
    "bar_chart.render_in_browser()"
   ]
  },
  {
   "cell_type": "code",
   "execution_count": 13,
   "metadata": {},
   "outputs": [
    {
     "name": "stdout",
     "output_type": "stream",
     "text": [
      "file://C:/Users/pathi/AppData/Local/Temp/tmp_lqhsec8.html\n"
     ]
    }
   ],
   "source": [
    "# Example to test custom spacing and texture\n",
    "import pygal\n",
    "# Testing coordinates builder helper\n",
    "from pygal.util import create_bar_chart_from_csv\n",
    "\n",
    "# Specifying file path for reading data for bar chart\n",
    "file_path = \"Mobile Operating System Market Share Worldwide.csv\"\n",
    "# Setting attributes for title \n",
    "title = \"Android, iOS and Samsung usage in 2019 months wise- custom spacing and texture\"\n",
    "# Columns for rendering bar chart\n",
    "columns = [\"Date\", \"Android\", \"iOS\", \"Samsung\"]\n",
    "# Range of labels for rendering bar chart\n",
    "x_labels_range = range(1, 13)\n",
    "\n",
    "# Creating data as per the format expected by the bar chart object using helper\n",
    "data = create_bar_chart_from_csv(file_path, title, columns, x_labels_range)\n",
    "\n",
    "# Creating the bar chart object\n",
    "# Example usage\n",
    "# Specifying bar spacing values\n",
    "bar_spacing = [0.1, 0.15, 0.1, 0.15, 0.2, 0.15, 0.1, 0.15, 0.2, 0.15, 0.1, 0.15]  # Adjust spacing values for each bar as needed\n",
    "\n",
    "bar_chart = pygal.Bar(bar_spacing=bar_spacing, bar_images=['https://docs.tibco.com/pub/sfire-cloud/12.4.0/doc/html/en-US/TIB_sfire_client/client/images/stacked_100__bar_chart_intro.png', 'https://img.freepik.com/free-vector/abstract-colorful-soft-watercolor-texture-background_1035-18958.jpg', 'https://t4.ftcdn.net/jpg/06/06/89/91/360_F_606899189_2snQer28Ka7oAUQp65vraexOsaBnNWXb.jpg', 'https://images.hdqwalls.com/wallpapers/colorful-abstract-texture-g6.jpg', 'https://cdn.pixabay.com/photo/2017/06/10/09/43/colorful-background-2389472_960_720.jpg', 'https://p4.wallpaperbetter.com/wallpaper/1021/131/727/colors-texture-pattern-artwork-wallpaper-preview.jpg', 'https://docs.tibco.com/pub/sfire-cloud/12.4.0/doc/html/en-US/TIB_sfire_client/client/images/stacked_100__bar_chart_intro.png', 'https://img.freepik.com/free-vector/abstract-colorful-soft-watercolor-texture-background_1035-18958.jpg', 'https://t4.ftcdn.net/jpg/06/06/89/91/360_F_606899189_2snQer28Ka7oAUQp65vraexOsaBnNWXb.jpg', 'https://images.hdqwalls.com/wallpapers/colorful-abstract-texture-g6.jpg', 'https://cdn.pixabay.com/photo/2017/06/10/09/43/colorful-background-2389472_960_720.jpg', 'https://p4.wallpaperbetter.com/wallpaper/1021/131/727/colors-texture-pattern-artwork-wallpaper-preview.jpg'])\n",
    "\n",
    "bar_chart.title = title\n",
    "bar_chart.x_labels = map(str, x_labels_range)\n",
    "\n",
    "# Adding the data to the bar chart\n",
    "for col, values in data.items():\n",
    "    bar_chart.add(col, values)\n",
    "\n",
    "# Render the chart in browser\n",
    "bar_chart.render_in_browser()"
   ]
  },
  {
   "cell_type": "code",
   "execution_count": 14,
   "metadata": {},
   "outputs": [
    {
     "name": "stdout",
     "output_type": "stream",
     "text": [
      "0.0,0.0 1.0,0.0 0.0,1.0\n",
      "file://C:/Users/pathi/AppData/Local/Temp/tmp4hwtbqu3.html\n"
     ]
    }
   ],
   "source": [
    "# Example to test texture\n",
    "import pygal\n",
    "# Testing coordinates builder helper\n",
    "from pygal.util import create_bar_chart_from_csv, read_shape_data_from_csv\n",
    "\n",
    "# Specifying file path for reading shape data from CSV\n",
    "file_path = 'shape_data.csv'\n",
    "coordinates = read_shape_data_from_csv(file_path)\n",
    "print(coordinates)\n",
    "\n",
    "# Specifying file path for reading data for bar chart\n",
    "file_path = \"Mobile Operating System Market Share Worldwide.csv\"\n",
    "# Setting attributes for title \n",
    "title = \"Android, iOS and Samsung usage in 2019 months wise - texture\"\n",
    "# Columns for rendering bar chart\n",
    "columns = [\"Date\", \"Android\", \"iOS\", \"Samsung\"]\n",
    "# Range of labels for rendering bar chart\n",
    "x_labels_range = range(1, 13)\n",
    "\n",
    "# Creating data as per the format expected by the bar chart object using helper\n",
    "data = create_bar_chart_from_csv(file_path, title, columns, x_labels_range)\n",
    "\n",
    "bar_chart = pygal.Bar(bar_images=['https://docs.tibco.com/pub/sfire-cloud/12.4.0/doc/html/en-US/TIB_sfire_client/client/images/stacked_100__bar_chart_intro.png', 'https://img.freepik.com/free-vector/abstract-colorful-soft-watercolor-texture-background_1035-18958.jpg', 'https://t4.ftcdn.net/jpg/06/06/89/91/360_F_606899189_2snQer28Ka7oAUQp65vraexOsaBnNWXb.jpg', 'https://images.hdqwalls.com/wallpapers/colorful-abstract-texture-g6.jpg', 'https://cdn.pixabay.com/photo/2017/06/10/09/43/colorful-background-2389472_960_720.jpg', 'https://p4.wallpaperbetter.com/wallpaper/1021/131/727/colors-texture-pattern-artwork-wallpaper-preview.jpg', 'https://docs.tibco.com/pub/sfire-cloud/12.4.0/doc/html/en-US/TIB_sfire_client/client/images/stacked_100__bar_chart_intro.png', 'https://img.freepik.com/free-vector/abstract-colorful-soft-watercolor-texture-background_1035-18958.jpg', 'https://t4.ftcdn.net/jpg/06/06/89/91/360_F_606899189_2snQer28Ka7oAUQp65vraexOsaBnNWXb.jpg', 'https://images.hdqwalls.com/wallpapers/colorful-abstract-texture-g6.jpg', 'https://cdn.pixabay.com/photo/2017/06/10/09/43/colorful-background-2389472_960_720.jpg', 'https://p4.wallpaperbetter.com/wallpaper/1021/131/727/colors-texture-pattern-artwork-wallpaper-preview.jpg'])\n",
    "\n",
    "bar_chart.title = title\n",
    "bar_chart.x_labels = map(str, x_labels_range)\n",
    "\n",
    "# Adding the data to the bar chart\n",
    "for col, values in data.items():\n",
    "    bar_chart.add(col, values)\n",
    "\n",
    "# Render the chart in browser\n",
    "bar_chart.render_in_browser()"
   ]
  },
  {
   "cell_type": "code",
   "execution_count": 15,
   "metadata": {},
   "outputs": [
    {
     "name": "stdout",
     "output_type": "stream",
     "text": [
      "0.0,0.0 1.0,0.0 0.0,1.0\n",
      "file://C:/Users/pathi/AppData/Local/Temp/tmpacme6jwn.html\n"
     ]
    }
   ],
   "source": [
    "# Example to test custom shape\n",
    "import pygal\n",
    "# Testing coordinates builder helper\n",
    "from pygal.util import create_bar_chart_from_csv, read_shape_data_from_csv\n",
    "\n",
    "# Specifying file path for reading shape data from CSV\n",
    "file_path = 'shape_data.csv'\n",
    "coordinates = read_shape_data_from_csv(file_path)\n",
    "print(coordinates)\n",
    "\n",
    "# Specifying file path for reading data for bar chart\n",
    "file_path = \"Mobile Operating System Market Share Worldwide.csv\"\n",
    "# Setting attributes for title \n",
    "title = \"Android and Samsung usage in 2019 months wise - Custom shape\"\n",
    "# Columns for rendering bar chart\n",
    "columns = [\"Date\", \"Android\", \"Samsung\"]\n",
    "# Range of labels for rendering bar chart\n",
    "x_labels_range = range(1, 13)\n",
    "\n",
    "# Creating data as per the format expected by the bar chart object using helper\n",
    "data = create_bar_chart_from_csv(file_path, title, columns, x_labels_range)\n",
    "\n",
    "# Creating the bar chart object\n",
    "# Example usage\n",
    "# Specifying custom shape object\n",
    "custom_shape = {            \n",
    "'tag': 'polygon',\n",
    "'attrib': {\n",
    "    'points': coordinates,\n",
    "    'class': 'custom-shape'\n",
    "    }\n",
    "}\n",
    "bar_chart = pygal.Bar(custom_shape=custom_shape)\n",
    "\n",
    "bar_chart.title = title\n",
    "bar_chart.x_labels = map(str, x_labels_range)\n",
    "\n",
    "# Adding the data to the bar chart\n",
    "for col, values in data.items():\n",
    "    bar_chart.add(col, values)\n",
    "\n",
    "# Render the chart in browser\n",
    "bar_chart.render_in_browser()"
   ]
  },
  {
   "cell_type": "code",
   "execution_count": 16,
   "metadata": {},
   "outputs": [
    {
     "name": "stdout",
     "output_type": "stream",
     "text": [
      "file://C:/Users/pathi/AppData/Local/Temp/tmpyw29vztn.html\n"
     ]
    }
   ],
   "source": [
    "# Testing scatter plot using XY chart - Polygon shape\n",
    "import pygal\n",
    "\n",
    "xy_chart = pygal.XY(stroke=False, shape='polygon')\n",
    "xy_chart.title = 'Correlation - Polygon'\n",
    "xy_chart.add('A', [(0, 0), (.1, .2), (.3, .1), (.5, 1), (.8, .6), (1, 1.08), (1.3, 1.1), (2, 3.23), (2.43, 2)])\n",
    "xy_chart.add('B', [(.1, .15), (.12, .23), (.4, .3), (.6, .4), (.21, .21), (.5, .3), (.6, .8), (.7, .8)])\n",
    "xy_chart.add('C', [(.05, .01), (.13, .02), (1.5, 1.7), (1.52, 1.6), (1.8, 1.63), (1.5, 1.82), (1.7, 1.23), (2.1, 2.23), (2.3, 1.98)])\n",
    "\n",
    "xy_chart.render_in_browser()"
   ]
  },
  {
   "cell_type": "code",
   "execution_count": 17,
   "metadata": {},
   "outputs": [
    {
     "name": "stdout",
     "output_type": "stream",
     "text": [
      "file://C:/Users/pathi/AppData/Local/Temp/tmp4ct3lwc5.html\n"
     ]
    }
   ],
   "source": [
    "# Testing scatter plot using XY chart - Rect shape\n",
    "import pygal\n",
    "\n",
    "xy_chart = pygal.XY(stroke=False, shape='rect')\n",
    "xy_chart.title = 'Correlation - Rectangles'\n",
    "xy_chart.add('A', [(0, 0), (.1, .2), (.3, .1), (.5, 1), (.8, .6), (1, 1.08), (1.3, 1.1), (2, 3.23), (2.43, 2)])\n",
    "xy_chart.add('B', [(.1, .15), (.12, .23), (.4, .3), (.6, .4), (.21, .21), (.5, .3), (.6, .8), (.7, .8)])\n",
    "xy_chart.add('C', [(.05, .01), (.13, .02), (1.5, 1.7), (1.52, 1.6), (1.8, 1.63), (1.5, 1.82), (1.7, 1.23), (2.1, 2.23), (2.3, 1.98)])\n",
    "\n",
    "xy_chart.render_in_browser()"
   ]
  },
  {
   "cell_type": "code",
   "execution_count": 18,
   "metadata": {},
   "outputs": [
    {
     "name": "stdout",
     "output_type": "stream",
     "text": [
      "file://C:/Users/pathi/AppData/Local/Temp/tmp4n2f216d.html\n"
     ]
    }
   ],
   "source": [
    "# Testing scatter plot using XY chart - Default shape\n",
    "import pygal\n",
    "\n",
    "xy_chart = pygal.XY(stroke=False)\n",
    "xy_chart.title = 'Correlation - Circle default'\n",
    "xy_chart.add('A', [(0, 0), (.1, .2), (.3, .1), (.5, 1), (.8, .6), (1, 1.08), (1.3, 1.1), (2, 3.23), (2.43, 2)])\n",
    "xy_chart.add('B', [(.1, .15), (.12, .23), (.4, .3), (.6, .4), (.21, .21), (.5, .3), (.6, .8), (.7, .8)])\n",
    "xy_chart.add('C', [(.05, .01), (.13, .02), (1.5, 1.7), (1.52, 1.6), (1.8, 1.63), (1.5, 1.82), (1.7, 1.23), (2.1, 2.23), (2.3, 1.98)])\n",
    "\n",
    "xy_chart.render_in_browser()"
   ]
  },
  {
   "cell_type": "code",
   "execution_count": null,
   "metadata": {},
   "outputs": [],
   "source": []
  }
 ],
 "metadata": {
  "kernelspec": {
   "display_name": "Python 3",
   "language": "python",
   "name": "python3"
  },
  "language_info": {
   "codemirror_mode": {
    "name": "ipython",
    "version": 3
   },
   "file_extension": ".py",
   "mimetype": "text/x-python",
   "name": "python",
   "nbconvert_exporter": "python",
   "pygments_lexer": "ipython3",
   "version": "3.12.3"
  }
 },
 "nbformat": 4,
 "nbformat_minor": 2
}
